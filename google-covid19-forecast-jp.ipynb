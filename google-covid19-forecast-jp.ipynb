{
 "cells": [
  {
   "cell_type": "code",
   "execution_count": 1,
   "metadata": {},
   "outputs": [],
   "source": [
    "import pandas as pd\n",
    "import csv\n",
    "import os,sys,json\n",
    "from datetime import datetime, timedelta, date\n",
    "import matplotlib\n",
    "import matplotlib.pyplot as plt\n",
    "#import matplotlib.pylab as plt\n",
    "import re\n",
    "#from pylab import *\n",
    "import tqdm\n",
    "import numpy as np\n",
    "%matplotlib inline\n",
    "font = {'family' : 'Noto Sans CJK JP'}\n",
    "matplotlib.rc('font', **font)"
   ]
  },
  {
   "cell_type": "code",
   "execution_count": 2,
   "metadata": {},
   "outputs": [
    {
     "data": {
      "text/html": [
       "\n",
       "<style>\n",
       "    .jp-OutputArea-child {\n",
       "        display: inline-block;\n",
       "    }\n",
       "</style>\n"
      ],
      "text/plain": [
       "<IPython.core.display.HTML object>"
      ]
     },
     "metadata": {},
     "output_type": "display_data"
    }
   ],
   "source": [
    "%%html\n",
    "\n",
    "<style>\n",
    "    .jp-OutputArea-child {\n",
    "        display: inline-block;\n",
    "    }\n",
    "</style>"
   ]
  },
  {
   "cell_type": "code",
   "execution_count": 3,
   "metadata": {},
   "outputs": [],
   "source": [
    "def display_full(df):\n",
    "    max_rows = pd.get_option('display.max_rows')\n",
    "    pd.set_option('display.max_rows', None)\n",
    "    display(df)\n",
    "    pd.set_option('display.max_rows', max_rows)"
   ]
  },
  {
   "cell_type": "code",
   "execution_count": 4,
   "metadata": {},
   "outputs": [
    {
     "name": "stdout",
     "output_type": "stream",
     "text": [
      "--2021-04-27 20:47:08--  https://storage.googleapis.com/covid-external/forecast_JAPAN_PREFECTURE_28.csv\n",
      "storage.googleapis.com (storage.googleapis.com) をDNSに問いあわせています... 2404:6800:4004:806::2010, 2404:6800:4004:808::2010, 2404:6800:4004:809::2010, ...\n",
      "storage.googleapis.com (storage.googleapis.com)|2404:6800:4004:806::2010|:443 に接続しています... 接続しました。\n",
      "HTTP による接続要求を送信しました、応答を待っています... 200 OK\n",
      "長さ: 459349 (449K) [application/octet-stream]\n",
      "`data/google/forecasts/forecast_JAPAN_PREFECTURE_28-20210427.csv' に保存中\n",
      "\n",
      "data/google/forecas 100%[===================>] 448.58K  --.-KB/s    in 0.06s   \n",
      "\n",
      "2021-04-27 20:47:08 (7.77 MB/s) - `data/google/forecasts/forecast_JAPAN_PREFECTURE_28-20210427.csv' へ保存完了 [459349/459349]\n",
      "\n"
     ]
    }
   ],
   "source": [
    "!mkdir -p data/google/forecasts\n",
    "!wget https://storage.googleapis.com/covid-external/forecast_JAPAN_PREFECTURE_28.csv -O data/google/forecasts/forecast_JAPAN_PREFECTURE_28-`date +%Y%m%d`.csv"
   ]
  },
  {
   "cell_type": "code",
   "execution_count": 5,
   "metadata": {},
   "outputs": [
    {
     "ename": "AttributeError",
     "evalue": "type object 'datetime.datetime' has no attribute 'datetime'",
     "output_type": "error",
     "traceback": [
      "\u001b[0;31m---------------------------------------------------------------------------\u001b[0m",
      "\u001b[0;31mAttributeError\u001b[0m                            Traceback (most recent call last)",
      "\u001b[0;32m<ipython-input-5-ae179467b9e1>\u001b[0m in \u001b[0;36m<module>\u001b[0;34m\u001b[0m\n\u001b[0;32m----> 1\u001b[0;31m \u001b[0mtarget_date\u001b[0m \u001b[0;34m=\u001b[0m \u001b[0mdatetime\u001b[0m\u001b[0;34m.\u001b[0m\u001b[0mdatetime\u001b[0m\u001b[0;34m.\u001b[0m\u001b[0mnow\u001b[0m\u001b[0;34m(\u001b[0m\u001b[0;34m)\u001b[0m\u001b[0;34m.\u001b[0m\u001b[0mstrftime\u001b[0m\u001b[0;34m(\u001b[0m\u001b[0;34m\"%Y%m%d\"\u001b[0m\u001b[0;34m)\u001b[0m\u001b[0;34m\u001b[0m\u001b[0;34m\u001b[0m\u001b[0m\n\u001b[0m\u001b[1;32m      2\u001b[0m \u001b[0mdf\u001b[0m \u001b[0;34m=\u001b[0m \u001b[0mpd\u001b[0m\u001b[0;34m.\u001b[0m\u001b[0mread_csv\u001b[0m\u001b[0;34m(\u001b[0m\u001b[0;34m\"data/google/forecasts/forecast_JAPAN_PREFECTURE_28-%s.csv\"\u001b[0m\u001b[0;34m%\u001b[0m\u001b[0mtarget_date\u001b[0m\u001b[0;34m)\u001b[0m\u001b[0;34m\u001b[0m\u001b[0;34m\u001b[0m\u001b[0m\n\u001b[1;32m      3\u001b[0m \u001b[0mdf\u001b[0m\u001b[0;34m.\u001b[0m\u001b[0mset_index\u001b[0m\u001b[0;34m(\u001b[0m\u001b[0;34m\"target_prediction_date\"\u001b[0m\u001b[0;34m)\u001b[0m\u001b[0;34m.\u001b[0m\u001b[0msort_index\u001b[0m\u001b[0;34m(\u001b[0m\u001b[0;34m)\u001b[0m\u001b[0;34m\u001b[0m\u001b[0;34m\u001b[0m\u001b[0m\n",
      "\u001b[0;31mAttributeError\u001b[0m: type object 'datetime.datetime' has no attribute 'datetime'"
     ]
    }
   ],
   "source": [
    "target_date = datetime.datetime.now().strftime(\"%Y%m%d\")\n",
    "df = pd.read_csv(\"data/google/forecasts/forecast_JAPAN_PREFECTURE_28-%s.csv\"%target_date)\n",
    "df.set_index(\"target_prediction_date\").sort_index()"
   ]
  },
  {
   "cell_type": "code",
   "execution_count": null,
   "metadata": {},
   "outputs": [],
   "source": [
    "df.columns"
   ]
  },
  {
   "cell_type": "code",
   "execution_count": null,
   "metadata": {},
   "outputs": [],
   "source": [
    "#total_df = df.loc[~df[\"new_confirmed\"].isnull()].groupby(\"target_prediction_date\").sum()\n",
    "total_df = df.groupby(\"target_prediction_date\").sum()\n",
    "total_df"
   ]
  },
  {
   "cell_type": "code",
   "execution_count": null,
   "metadata": {},
   "outputs": [],
   "source": [
    "!mkdir -p google-covid19-forecast/jp\n",
    "ax=total_df.replace(0, np.nan).plot(title=\"Japan COVID19 forecast\", y=[\"new_confirmed\",\"new_confirmed_ground_truth\"])\n",
    "display(ax.figure)\n",
    "plt.savefig(\"google-covid19-forecast/jp/total.png\")\n",
    "plt.close()"
   ]
  },
  {
   "cell_type": "code",
   "execution_count": null,
   "metadata": {},
   "outputs": [],
   "source": [
    "if False:\n",
    "    for p, ddf in df.groupby(\"prefecture_name\"):\n",
    "        ax=ddf.set_index(\"target_prediction_date\").sort_index().plot(title=p, y=[\"new_confirmed\",\"new_confirmed_ground_truth\"])\n",
    "        display(ax.figure)\n",
    "        plt.savefig(\"google-covid19-forecast/jp/%s.png\"%p)\n",
    "        plt.close()"
   ]
  },
  {
   "cell_type": "code",
   "execution_count": null,
   "metadata": {},
   "outputs": [],
   "source": [
    "from functools import reduce\n",
    "\n",
    "def read_one_week():\n",
    "    today = datetime.datetime.now()\n",
    "    stable_cols = (\"target_prediction_date\", \"prefecture_name\", \"new_confirmed_ground_truth\")\n",
    "    def data_for_date(target_date):\n",
    "        filename = \"data/google/forecasts/forecast_JAPAN_PREFECTURE_28-%s.csv\"%target_date\n",
    "        if not os.path.exists(filename):\n",
    "            return None\n",
    "        ddf = pd.read_csv(filename)\n",
    "        result = ddf[[\n",
    "            \"target_prediction_date\", \"prefecture_name\", \n",
    "            \"new_confirmed_ground_truth\", \"new_confirmed\"]]\n",
    "        result[\"target_prediction_date\"] = pd.to_datetime(result[\"target_prediction_date\"])\n",
    "        columns={ \n",
    "            c: \"%s_%s\"%(c, target_date) if c not in stable_cols else c for c in result.columns \n",
    "        }\n",
    "        result = result.rename(columns=columns)\n",
    "        return result\n",
    "    \n",
    "    dates = [(today - datetime.timedelta(days=i)).strftime(\"%Y%m%d\") for i in range(6, -1, -1)]\n",
    "    data  = [data_for_date(d) for d in dates]\n",
    "    truth = [d[1].set_index(['target_prediction_date', 'prefecture_name'])[\"new_confirmed_ground_truth\"].rename(d[0]) for d in zip(dates, data) if not d[1] is None]\n",
    "    truth = reduce(lambda l, r: pd.merge(l, r, on=['target_prediction_date', 'prefecture_name'], how='outer'), truth)\n",
    "    if len(truth.shape) > 1 and truth.shape[-1] > 1:\n",
    "        truth = truth.max(axis=1)\n",
    "    truth = truth.reset_index().set_index(\"target_prediction_date\").sort_index()\n",
    "    truth_avg = truth.groupby(\"prefecture_name\").rolling(7, center=True, min_periods=1).mean()\n",
    "    truth_avg = truth_avg.reset_index().set_index([\"target_prediction_date\", \"prefecture_name\"]).sort_index()\n",
    "    truth = truth.reset_index().set_index([\"target_prediction_date\", \"prefecture_name\"]).sort_index()\n",
    "    truth = pd.concat([truth,truth_avg], axis=1, ignore_index=True)\n",
    "    truth = truth.rename(columns={0: \"new_confirmed\", 1: \"new_confirmed(avg)\"})\n",
    "    data = [d.drop(columns=\"new_confirmed_ground_truth\") for d in data if not d is None]\n",
    "    data = [truth] + data\n",
    "    return reduce(lambda l, r: pd.merge(l, r, on=['target_prediction_date', 'prefecture_name'], how='outer'), data)\n",
    "weekly_comparison = read_one_week()\n",
    "display(weekly_comparison)"
   ]
  },
  {
   "cell_type": "code",
   "execution_count": null,
   "metadata": {},
   "outputs": [],
   "source": [
    "!mkdir -p google-covid19-forecast/jp\n",
    "\n",
    "ax = weekly_comparison.groupby(\"target_prediction_date\").sum().replace(0, np.nan).plot(title=\"Japan COVID19 forecast\")\n",
    "display(ax.figure)\n",
    "plt.savefig(\"google-covid19-forecast/jp/JPN-weekly.png\")\n",
    "plt.close()\n",
    "\n",
    "\n",
    "\n",
    "for p, ddf in weekly_comparison.groupby(\"prefecture_name\"):\n",
    "    ax=ddf.set_index(\"target_prediction_date\").sort_index().plot(title=p)\n",
    "    display(ax.figure)\n",
    "    plt.savefig(\"google-covid19-forecast/jp/%s-weekly.png\"%p)\n",
    "    plt.close()"
   ]
  },
  {
   "cell_type": "code",
   "execution_count": null,
   "metadata": {},
   "outputs": [],
   "source": [
    "!zip google-covid19-forecast.zip google-covid19-forecast/*"
   ]
  },
  {
   "cell_type": "code",
   "execution_count": null,
   "metadata": {},
   "outputs": [],
   "source": []
  }
 ],
 "metadata": {
  "kernelspec": {
   "display_name": "Python 3",
   "language": "python",
   "name": "python3"
  },
  "language_info": {
   "codemirror_mode": {
    "name": "ipython",
    "version": 3
   },
   "file_extension": ".py",
   "mimetype": "text/x-python",
   "name": "python",
   "nbconvert_exporter": "python",
   "pygments_lexer": "ipython3",
   "version": "3.7.10"
  }
 },
 "nbformat": 4,
 "nbformat_minor": 4
}
